{
 "cells": [
  {
   "cell_type": "markdown",
   "metadata": {},
   "source": [
    "**Play Multi-Armed Bandit with Epsilon-Greedy strategy**"
   ]
  },
  {
   "cell_type": "code",
   "execution_count": 2,
   "metadata": {},
   "outputs": [],
   "source": [
    "import matplotlib.pyplot as plt\n",
    "import numpy as np"
   ]
  },
  {
   "cell_type": "code",
   "execution_count": 11,
   "metadata": {},
   "outputs": [],
   "source": [
    "#Bandit class\n",
    "\n",
    "class Bandit:\n",
    "    def __init__(self,p):\n",
    "        #p: the win rate\n",
    "        self.p = p\n",
    "        self.p_estimate = 0.\n",
    "        self.N = 0.\n",
    "        \n",
    "    def pull(self):\n",
    "        #draw a 1 with probability p\n",
    "        return np.random.random() < self.p\n",
    "    \n",
    "    def update(self,x):\n",
    "        self.N += 1\n",
    "        N = self.N\n",
    "        self.p_estimate = x/N + (N-1)/N * self.p_estimate"
   ]
  },
  {
   "cell_type": "code",
   "execution_count": 20,
   "metadata": {},
   "outputs": [],
   "source": [
    "#experiment\n",
    "\n",
    "NUM_TRIALS = 10000\n",
    "EPS = 0.1\n",
    "BANDIT_PROBABILITIES = [0.2, 0.5, 0.75]\n",
    "\n",
    "def experiment():\n",
    "    bandits = [Bandit(p) for p in BANDIT_PROBABILITIES]\n",
    "    \n",
    "    rewards = np.zeros(NUM_TRIALS)\n",
    "    num_times_explored = 0\n",
    "    num_times_exploited = 0\n",
    "    num_optimal = 0\n",
    "    optimal_j = np.argmax([b.p for b in bandits])\n",
    "    for i in range(NUM_TRIALS):\n",
    "        #use epsilon-greedy to select next bandit\n",
    "        if np.random.random() < EPS:\n",
    "            num_times_explored += 1\n",
    "            j = np.random.randint(len(bandits))\n",
    "        else:\n",
    "            num_times_exploited += 1\n",
    "            j = np.argmax([b.p_estimate for b in bandits])\n",
    "            \n",
    "        if j == optimal_j:\n",
    "            num_optimal += 1\n",
    "            \n",
    "        #pull the arm for the selected bandit \n",
    "        x = bandits[j].pull()\n",
    "        \n",
    "        #update the distribution\n",
    "        bandits[j].update(x)\n",
    "        \n",
    "        #update rewards log\n",
    "        rewards[i] = x\n",
    "    \n",
    "    # print mean estimates for each bandit\n",
    "    for b in bandits:\n",
    "        print(\"mean estimate: \", b.p_estimate)\n",
    "        \n",
    "    #print total reward\n",
    "    print('total reward earned: ', rewards.sum())\n",
    "    print('overall win rate: ', rewards.sum() / NUM_TRIALS)\n",
    "    print('num_times_explored: ', num_times_explored)\n",
    "    print('num_times_exploited: ', num_times_exploited)\n",
    "    print('num times selected optimal bandit: ', num_optimal)\n",
    "    \n",
    "    #plot results\n",
    "    cumulative_rewards = np.cumsum(rewards)\n",
    "    win_rates = cumulative_rewards / (np.arange(NUM_TRIALS) + 1)\n",
    "    plt.plot(win_rates)\n",
    "    plt.plot(np.ones(NUM_TRIALS) * np.max(BANDIT_PROBABILITIES))\n",
    "    plt.show()"
   ]
  },
  {
   "cell_type": "code",
   "execution_count": 21,
   "metadata": {},
   "outputs": [
    {
     "name": "stdout",
     "output_type": "stream",
     "text": [
      "mean estimate:  0.19743589743589735\n",
      "mean estimate:  0.498614958448753\n",
      "mean estimate:  0.744512920315714\n",
      "total reward earned:  7143.0\n",
      "overall win rate:  0.7143\n",
      "num_times_explored:  1049\n",
      "num_times_exploited:  8951\n",
      "num times selected optimal bandit:  9249\n"
     ]
    },
    {
     "data": {
      "image/png": "[encoded data removed]",
      "text/plain": [
       "<Figure size 432x288 with 1 Axes>"
      ]
     },
     "metadata": {
      "needs_background": "light"
     },
     "output_type": "display_data"
    }
   ],
   "source": [
    "experiment()"
   ]
  }
 ],
 "metadata": {
  "kernelspec": {
   "display_name": "Python 3",
   "language": "python",
   "name": "python3"
  },
  "language_info": {
   "codemirror_mode": {
    "name": "ipython",
    "version": 3
   },
   "file_extension": ".py",
   "mimetype": "text/x-python",
   "name": "python",
   "nbconvert_exporter": "python",
   "pygments_lexer": "ipython3",
   "version": "3.7.6"
  }
 },
 "nbformat": 4,
 "nbformat_minor": 4
}
