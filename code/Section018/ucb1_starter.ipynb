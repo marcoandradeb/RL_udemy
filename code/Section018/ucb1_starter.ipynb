{
 "cells": [
  {
   "cell_type": "markdown",
   "metadata": {},
   "source": [
    "UCB based on Hoeffding's inequality"
   ]
  },
  {
   "cell_type": "markdown",
   "metadata": {},
   "source": [
    "$P[ \\bar{X} - E(\\bar{X}) \\ge t ] \\le e^{-2nt^2} = p$"
   ]
  },
  {
   "cell_type": "markdown",
   "metadata": {},
   "source": [
    "We consider $p = N^{-4}$"
   ]
  },
  {
   "cell_type": "code",
   "execution_count": 2,
   "metadata": {},
   "outputs": [],
   "source": [
    "import matplotlib.pyplot as plt\n",
    "import numpy as np\n",
    "\n",
    "#Bandit class\n",
    "\n",
    "class Bandit:\n",
    "    def __init__(self,p):\n",
    "        #p: the win rate\n",
    "        self.p = p\n",
    "        self.p_estimate = 0.\n",
    "        self.N = 0.\n",
    "        \n",
    "    def pull(self):\n",
    "        #draw a 1 with probability p\n",
    "        return np.random.random() < self.p\n",
    "    \n",
    "    def update(self,x):\n",
    "        self.N += 1\n",
    "        N = self.N\n",
    "        self.p_estimate = x/N + (N-1)/N * self.p_estimate"
   ]
  },
  {
   "cell_type": "code",
   "execution_count": 3,
   "metadata": {},
   "outputs": [],
   "source": [
    "NUM_TRIALS = 10000\n",
    "EPS = 0.1\n",
    "BANDIT_PROBABILITIES = [0.2, 0.5, 0.75]\n",
    "\n",
    "def ucb(mean, n, nj):\n",
    "    return mean + np.sqrt(2 * np.log(n) / nj )\n",
    "\n",
    "def run_experiment():\n",
    "    bandits = [Bandit(p) for p in BANDIT_PROBABILITIES]\n",
    "    rewards = np.empty(NUM_TRIALS)\n",
    "    total_plays = 0\n",
    "    \n",
    "    # initialization: play each bandit once\n",
    "    for j in range(len(bandits)):\n",
    "        x = bandits[j].pull()\n",
    "        total_plays += 1\n",
    "        bandits[j].update(x)\n",
    "        \n",
    "    for i in range(NUM_TRIALS):\n",
    "        j = np.argmax([ucb(mean = bandit.p_estimate, n = total_plays, nj = bandit.N) for bandit in bandits])\n",
    "        x = bandits[j].pull()\n",
    "        total_plays += 1\n",
    "        bandits[j].update(x)\n",
    "        rewards[i] = x\n",
    "    \n",
    "    # print mean estimates for each bandit\n",
    "    for b in bandits:\n",
    "        print(\"mean estimate: \", b.p_estimate)\n",
    "        \n",
    "    #print total reward\n",
    "    print('total reward earned: ', rewards.sum())\n",
    "    print('overall win rate: ', rewards.sum() / NUM_TRIALS)\n",
    "    \n",
    "    #plot results\n",
    "    cumulative_rewards = np.cumsum(rewards)\n",
    "    win_rates = cumulative_rewards / (np.arange(NUM_TRIALS) + 1)\n",
    "    plt.plot(win_rates)\n",
    "    plt.plot(np.ones(NUM_TRIALS) * np.max(BANDIT_PROBABILITIES))\n",
    "    plt.show()"
   ]
  },
  {
   "cell_type": "code",
   "execution_count": 4,
   "metadata": {},
   "outputs": [
    {
     "name": "stdout",
     "output_type": "stream",
     "text": [
      "mean estimate:  0.2615384615384615\n",
      "mean estimate:  0.4808743169398905\n",
      "mean estimate:  0.7563300871348022\n",
      "total reward earned:  7481.0\n",
      "overall win rate:  0.7481\n"
     ]
    },
    {
     "data": {
      "image/png": "[encoded data removed]",
      "text/plain": [
       "<Figure size 432x288 with 1 Axes>"
      ]
     },
     "metadata": {
      "needs_background": "light"
     },
     "output_type": "display_data"
    }
   ],
   "source": [
    "run_experiment()"
   ]
  }
 ],
 "metadata": {
  "kernelspec": {
   "display_name": "Python 3",
   "language": "python",
   "name": "python3"
  },
  "language_info": {
   "codemirror_mode": {
    "name": "ipython",
    "version": 3
   },
   "file_extension": ".py",
   "mimetype": "text/x-python",
   "name": "python",
   "nbconvert_exporter": "python",
   "pygments_lexer": "ipython3",
   "version": "3.7.6"
  }
 },
 "nbformat": 4,
 "nbformat_minor": 4
}
